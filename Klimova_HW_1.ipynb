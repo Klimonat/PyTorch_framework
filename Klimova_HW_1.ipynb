{
  "cells": [
    {
      "cell_type": "code",
      "execution_count": 1,
      "metadata": {
        "id": "_CNZn_3CofVO"
      },
      "outputs": [],
      "source": [
        "import torch"
      ]
    },
    {
      "cell_type": "code",
      "execution_count": 2,
      "metadata": {
        "id": "QGYTKAxeofVR",
        "colab": {
          "base_uri": "https://localhost:8080/"
        },
        "outputId": "73352934-1aa3-4356-ba91-5be80f00b12f"
      },
      "outputs": [
        {
          "output_type": "execute_result",
          "data": {
            "text/plain": [
              "tensor([[[0.2922, 0.6851, 0.1807, 0.0146, 0.5522],\n",
              "         [0.7022, 0.5452, 0.8132, 0.8634, 0.0019],\n",
              "         [0.4158, 0.1736, 0.9482, 0.1059, 0.8269],\n",
              "         [0.5824, 0.3399, 0.0150, 0.3603, 0.5587]],\n",
              "\n",
              "        [[0.6962, 0.6374, 0.8545, 0.6656, 0.2539],\n",
              "         [0.0347, 0.2359, 0.1748, 0.4120, 0.4091],\n",
              "         [0.8494, 0.6930, 0.5555, 0.4926, 0.5834],\n",
              "         [0.4520, 0.5411, 0.1758, 0.1972, 0.6934]],\n",
              "\n",
              "        [[0.5529, 0.8098, 0.6976, 0.9764, 0.4835],\n",
              "         [0.9097, 0.5312, 0.9374, 0.0434, 0.9054],\n",
              "         [0.2128, 0.1515, 0.8075, 0.7585, 0.9312],\n",
              "         [0.0384, 0.7919, 0.8043, 0.3456, 0.1959]]])"
            ]
          },
          "metadata": {},
          "execution_count": 2
        }
      ],
      "source": [
        "# 1. Создайте случайный FloatTensor размера 3x4x5\n",
        "tensor = torch.rand(3, 4, 5)\n",
        "tensor"
      ]
    },
    {
      "cell_type": "code",
      "execution_count": 3,
      "metadata": {
        "id": "7GV_q8DdofVV",
        "colab": {
          "base_uri": "https://localhost:8080/"
        },
        "outputId": "96b1f660-43d4-4f87-c653-4027d6a54321"
      },
      "outputs": [
        {
          "output_type": "execute_result",
          "data": {
            "text/plain": [
              "torch.Size([3, 4, 5])"
            ]
          },
          "metadata": {},
          "execution_count": 3
        }
      ],
      "source": [
        "# 2. Выведите его форму (shape)\n",
        "tensor.shape"
      ]
    },
    {
      "cell_type": "code",
      "execution_count": 4,
      "metadata": {
        "id": "f1OTy65FofVX",
        "colab": {
          "base_uri": "https://localhost:8080/"
        },
        "outputId": "be7cb466-cf65-4c22-d666-e41dbcb78b14"
      },
      "outputs": [
        {
          "output_type": "execute_result",
          "data": {
            "text/plain": [
              "tensor([[0.2922, 0.6851, 0.1807, 0.0146, 0.5522, 0.7022, 0.5452, 0.8132, 0.8634,\n",
              "         0.0019],\n",
              "        [0.4158, 0.1736, 0.9482, 0.1059, 0.8269, 0.5824, 0.3399, 0.0150, 0.3603,\n",
              "         0.5587],\n",
              "        [0.6962, 0.6374, 0.8545, 0.6656, 0.2539, 0.0347, 0.2359, 0.1748, 0.4120,\n",
              "         0.4091],\n",
              "        [0.8494, 0.6930, 0.5555, 0.4926, 0.5834, 0.4520, 0.5411, 0.1758, 0.1972,\n",
              "         0.6934],\n",
              "        [0.5529, 0.8098, 0.6976, 0.9764, 0.4835, 0.9097, 0.5312, 0.9374, 0.0434,\n",
              "         0.9054],\n",
              "        [0.2128, 0.1515, 0.8075, 0.7585, 0.9312, 0.0384, 0.7919, 0.8043, 0.3456,\n",
              "         0.1959]])"
            ]
          },
          "metadata": {},
          "execution_count": 4
        }
      ],
      "source": [
        "# 3. Приведите его к форме 6х10\n",
        "tensor_reshape = tensor.reshape(6, 10)\n",
        "tensor_reshape"
      ]
    },
    {
      "cell_type": "code",
      "execution_count": 5,
      "metadata": {
        "id": "BEVOv9_TofVe",
        "colab": {
          "base_uri": "https://localhost:8080/"
        },
        "outputId": "0fde120f-c1aa-4738-ea68-a6680c65f085"
      },
      "outputs": [
        {
          "output_type": "execute_result",
          "data": {
            "text/plain": [
              "tensor([-948183872,      21944,         27,          0,         -1,   16843009,\n",
              "         678913390, 1142959146, 1667855973, 1679834981], dtype=torch.int32)"
            ]
          },
          "metadata": {},
          "execution_count": 5
        }
      ],
      "source": [
        "# 4. Создайте случайный IntTensor размера 10\n",
        "int_tensor = torch.IntTensor(10)\n",
        "int_tensor"
      ]
    },
    {
      "cell_type": "code",
      "source": [
        "# 5. Умножьте созданный FloatTensor на созданный IntTensor поэлементно\n",
        "mult_tensor = tensor_reshape * int_tensor\n",
        "mult_tensor"
      ],
      "metadata": {
        "id": "TAX3DUiSa07K",
        "colab": {
          "base_uri": "https://localhost:8080/"
        },
        "outputId": "3dfafb53-77c2-43b5-d6ac-1fae0c7db4e9"
      },
      "execution_count": 6,
      "outputs": [
        {
          "output_type": "execute_result",
          "data": {
            "text/plain": [
              "tensor([[-2.7704e+08,  1.5033e+04,  4.8783e+00,  0.0000e+00, -5.5222e-01,\n",
              "          1.1827e+07,  3.7015e+08,  9.2946e+08,  1.4400e+09,  3.1519e+06],\n",
              "        [-3.9426e+08,  3.8101e+03,  2.5603e+01,  0.0000e+00, -8.2686e-01,\n",
              "          9.8086e+06,  2.3079e+08,  1.7164e+07,  6.0098e+08,  9.3855e+08],\n",
              "        [-6.6017e+08,  1.3987e+04,  2.3071e+01,  0.0000e+00, -2.5388e-01,\n",
              "          5.8521e+05,  1.6014e+08,  1.9974e+08,  6.8721e+08,  6.8717e+08],\n",
              "        [-8.0538e+08,  1.5206e+04,  1.4999e+01,  0.0000e+00, -5.8342e-01,\n",
              "          7.6124e+06,  3.6738e+08,  2.0099e+08,  3.2887e+08,  1.1648e+09],\n",
              "        [-5.2429e+08,  1.7771e+04,  1.8835e+01,  0.0000e+00, -4.8355e-01,\n",
              "          1.5322e+07,  3.6062e+08,  1.0714e+09,  7.2339e+07,  1.5209e+09],\n",
              "        [-2.0177e+08,  3.3243e+03,  2.1804e+01,  0.0000e+00, -9.3122e-01,\n",
              "          6.4621e+05,  5.3762e+08,  9.1928e+08,  5.7635e+08,  3.2914e+08]])"
            ]
          },
          "metadata": {},
          "execution_count": 6
        }
      ]
    },
    {
      "cell_type": "code",
      "execution_count": 7,
      "metadata": {
        "id": "eUxdWlQZofVi",
        "colab": {
          "base_uri": "https://localhost:8080/"
        },
        "outputId": "e1872265-c6af-46b1-dd66-10685cdeec85"
      },
      "outputs": [
        {
          "output_type": "execute_result",
          "data": {
            "text/plain": [
              "tensor([[3.1513e+18, 1.0791e+18, 1.4195e+18, 1.0232e+18, 1.3837e+18, 1.9403e+18],\n",
              "        [1.0791e+18, 1.4511e+18, 1.3586e+18, 1.6968e+18, 1.7794e+18, 8.7470e+17],\n",
              "        [1.4195e+18, 1.3586e+18, 1.4458e+18, 1.6571e+18, 1.7127e+18, 1.0252e+18],\n",
              "        [1.0232e+18, 1.6968e+18, 1.6571e+18, 2.2891e+18, 2.5656e+18, 1.1177e+18],\n",
              "        [1.3837e+18, 1.7794e+18, 1.7127e+18, 2.5656e+18, 3.8713e+18, 1.8268e+18],\n",
              "        [1.9403e+18, 8.7470e+17, 1.0252e+18, 1.1177e+18, 1.8268e+18, 1.6153e+18]])"
            ]
          },
          "metadata": {},
          "execution_count": 7
        }
      ],
      "source": [
        "# 6. Умножьте тензор матрично на себя, чтобы результат был размерности 6x6\n",
        "# Подсказка: .dot может не подойти\n",
        "torch.mm(mult_tensor, torch.transpose(mult_tensor, 0 , 1))"
      ]
    },
    {
      "cell_type": "code",
      "execution_count": 8,
      "metadata": {
        "id": "u3V6CsNkofVj",
        "colab": {
          "base_uri": "https://localhost:8080/"
        },
        "outputId": "75afcc7e-9c3d-4bd3-8171-8e12cac1c9b4"
      },
      "outputs": [
        {
          "output_type": "execute_result",
          "data": {
            "text/plain": [
              "(tensor([3., 3., 3.]), tensor([1., 1., 1.]), tensor([-75., -75., -75.]))"
            ]
          },
          "metadata": {},
          "execution_count": 8
        }
      ],
      "source": [
        "# 7. Посчитайте производную функции y = x**3 + z - 75t в точке (1, 0.5, 2)\n",
        "args = torch.tensor([1., 1., 1.])\n",
        "x = torch.tensor([1., 1., 1.], requires_grad=True)\n",
        "z = torch.tensor([0.5, 0.5, 0.5], requires_grad=True)\n",
        "t = torch.tensor([2., 2., 2.], requires_grad=True)\n",
        "\n",
        "y = x ** 3 + z - 75 * t\n",
        "\n",
        "y.backward(gradient=args)\n",
        "x.grad, z.grad, t.grad"
      ]
    },
    {
      "cell_type": "code",
      "execution_count": 9,
      "metadata": {
        "id": "FzH6QkyxofVm",
        "colab": {
          "base_uri": "https://localhost:8080/"
        },
        "outputId": "a91d3e37-b3fa-481c-fbac-dc811a596ccd"
      },
      "outputs": [
        {
          "output_type": "execute_result",
          "data": {
            "text/plain": [
              "tensor([[1., 1., 1., 1., 1., 1.],\n",
              "        [1., 1., 1., 1., 1., 1.],\n",
              "        [1., 1., 1., 1., 1., 1.],\n",
              "        [1., 1., 1., 1., 1., 1.],\n",
              "        [1., 1., 1., 1., 1., 1.]])"
            ]
          },
          "metadata": {},
          "execution_count": 9
        }
      ],
      "source": [
        "# 8. Создайте единичный тензор размера 5x6\n",
        "ones_tensor = torch.ones((5, 6))\n",
        "ones_tensor"
      ]
    },
    {
      "cell_type": "code",
      "execution_count": 10,
      "metadata": {
        "id": "z49ttvWPofVo",
        "colab": {
          "base_uri": "https://localhost:8080/"
        },
        "outputId": "9f2d6ab3-61d5-452a-d121-e618dd611be7"
      },
      "outputs": [
        {
          "output_type": "execute_result",
          "data": {
            "text/plain": [
              "array([[1., 1., 1., 1., 1., 1.],\n",
              "       [1., 1., 1., 1., 1., 1.],\n",
              "       [1., 1., 1., 1., 1., 1.],\n",
              "       [1., 1., 1., 1., 1., 1.],\n",
              "       [1., 1., 1., 1., 1., 1.]], dtype=float32)"
            ]
          },
          "metadata": {},
          "execution_count": 10
        }
      ],
      "source": [
        "# 9. Переведите его в формат numpy\n",
        "np_ones_tensor = ones_tensor.numpy()\n",
        "np_ones_tensor"
      ]
    }
  ],
  "metadata": {
    "kernelspec": {
      "display_name": "Python 3",
      "language": "python",
      "name": "python3"
    },
    "language_info": {
      "codemirror_mode": {
        "name": "ipython",
        "version": 3
      },
      "file_extension": ".py",
      "mimetype": "text/x-python",
      "name": "python",
      "nbconvert_exporter": "python",
      "pygments_lexer": "ipython3",
      "version": "3.7.4"
    },
    "colab": {
      "name": "Klimova_HW_1.ipynb",
      "provenance": [],
      "collapsed_sections": []
    }
  },
  "nbformat": 4,
  "nbformat_minor": 0
}